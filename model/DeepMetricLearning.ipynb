import os
import argparse
import sys
import shutil
import glob


sys.path.append("/content/drive/MyDrive/Arc_face")
sys.path.append("/content/drive/MyDrive/functions")
import archs
import functions
import analyze 
import datetime

arch_names = archs.__dict__.keys()

def parse_args():
    parser = argparse.ArgumentParser()
    parser.add_argument('--arch', '-a', metavar='ARCH', default='CNN_NO1',choices=functions.get_model_choices(),
                        help='model architecture: ' +
                            ' | '.join(arch_names) +
                            ' (default: vgg8)')
    parser.add_argument('--num-features', default=3, type=int,
                        help='dimention of embedded features')
    parser.add_argument('--scheduler', default='CosineAnnealing',
                        choices=['CosineAnnealing', 'None'],
                        help='scheduler: ' +
                            ' | '.join(['CosineAnnealing', 'None']) +
                            ' (default: CosineAnnealing)')
    parser.add_argument('--epochs', default=100, type=int, metavar='N',
                        help='number of total epochs to run')
    parser.add_argument('-b', '--batch-size', default=128, type=int,
                        metavar='N', help='mini-batch size (default: 128)')
    parser.add_argument('--optimizer', default='SGD',
                        choices=['Adam', 'SGD'],
                        help='loss: ' +
                            ' | '.join(['Adam', 'SGD']) +
                            ' (default: Adam)')
    parser.add_argument('--lr', '--learning-rate', default=1e-2, type=float,
                        metavar='LR', help='initial learning rate')
    parser.add_argument('--min-lr', default=1e-6, type=float,
                        help='minimum learning rate')
    parser.add_argument('--others', default=False, type=bool,
                        help='identifiy other classes')    
    parser.add_argument('--momentum', default=0.5, type=float)
    parser.add_argument('--self_arcface', default=False, type=bool)
    parser.add_argument('--persons_selected',default=False,type=bool)
    parser.add_argument('--color_mode',default=3,type=int)
    parser.add_argument('--add_ordered',type=str,choices=["descending_order","ascending_order"],default="ascending_order")
    parser.add_argument('--image_type',type=str,choices=["color","7_7_color","3_3_color"],default="color")
    parser.add_argument('--early_stop',type=bool,default=False)  
    parser.add_argument('--open_world',type=bool,default=False)  
    parser.add_argument('--img_num',type=bool,default=False)   
    parser.add_argument('--DA',type=bool,default=False)
    parser.add_argument("--TIME",type=str,default=str(datetime.datetime.now(datetime.timezone.utc)))
    parser.add_argument('--mode_add',type=bool,default=False)
    parser.add_argument("--test_separate",type=bool,default=True)
    parser.add_argument("--add_height",type=bool,default=True)


    args_list=[]
    # 上記の中に各種パラメーターを入力
    args = parser.parse_args(args=args_list)
    if "SVM" in args.arch:
      args.test_separate=False
      print("変更済み")
    return args

def train(args):
  num_list=[9]
  for i in num_list:
    try:
      functions.model_train(args,i)
      functions.kill_data()
    except:
      print("正しい実行ができませんでした")
      keep_data="/content/drive/MyDrive/models"
      if not os.path.exists(keep_data):
        os.makedirs(keep_data)
      functions.kill_data()
      num=len(glob.glob(keep_data+"/*"))+1
      shutil.rmtree("/content/drive/MyDrive/sample",ignore_errors=True)
      shutil.copytree("/content/model","/content/drive/MyDrive/sample")

def main():
  args=parse_args()
  count=1
  #実行回数　count が実行回数
  for i in range(count):
    train(args)

if __name__ == '__main__':
  main()
